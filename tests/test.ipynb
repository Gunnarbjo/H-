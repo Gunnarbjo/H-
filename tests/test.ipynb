def hello ():
    print("L did you know")
    print("that Shinigami's")
    print("love apples")


hello()